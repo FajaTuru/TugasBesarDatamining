{
 "cells": [
  {
   "cell_type": "code",
   "execution_count": 1,
   "metadata": {},
   "outputs": [],
   "source": [
    "import pandas as pd    \n",
    "import numpy as np\n",
    "import nltk\n",
    "import string\n",
    "from sklearn import model_selection \n",
    "from sklearn.feature_extraction.text import CountVectorizer\n",
    "from sklearn.feature_extraction.text import TfidfTransformer\n",
    "from sklearn.model_selection import train_test_split\n",
    "from sklearn.naive_bayes import MultinomialNB\n",
    "from sklearn.neighbors import KNeighborsClassifier\n",
    "from sklearn.tree import DecisionTreeClassifier\n",
    "from sklearn.ensemble import RandomForestClassifier\n",
    "from sklearn.linear_model import LogisticRegression\n",
    "from sklearn.svm import SVC\n",
    "from sklearn.neural_network import MLPClassifier\n",
    "from sklearn.metrics import classification_report , accuracy_score , confusion_matrix\n",
    "import seaborn as sns\n",
    "import matplotlib.pyplot as plt"
   ]
  },
  {
   "cell_type": "code",
   "execution_count": 3,
   "metadata": {},
   "outputs": [
    {
     "name": "stdout",
     "output_type": "stream",
     "text": [
      "        ID Marital Status  Gender    Income  Children        Education  \\\n",
      "0    12496        Married  Female   40000.0       1.0        Bachelors   \n",
      "1    24107        Married    Male   30000.0       3.0  Partial College   \n",
      "2    14177        Married    Male   80000.0       5.0  Partial College   \n",
      "3    24381         Single     NaN   70000.0       0.0        Bachelors   \n",
      "4    25597         Single    Male   30000.0       0.0        Bachelors   \n",
      "..     ...            ...     ...       ...       ...              ...   \n",
      "995  23731        Married    Male   60000.0       2.0      High School   \n",
      "996  28672         Single    Male   70000.0       4.0  Graduate Degree   \n",
      "997  11809        Married     NaN   60000.0       2.0        Bachelors   \n",
      "998  19664         Single    Male  100000.0       3.0        Bachelors   \n",
      "999  12121         Single    Male   60000.0       3.0      High School   \n",
      "\n",
      "         Occupation Home Owner  Cars Commute Distance         Region   Age  \\\n",
      "0    Skilled Manual        Yes   0.0        0-1 Miles         Europe  42.0   \n",
      "1          Clerical        Yes   1.0        0-1 Miles         Europe  43.0   \n",
      "2      Professional         No   2.0        2-5 Miles         Europe  60.0   \n",
      "3      Professional        Yes   1.0       5-10 Miles        Pacific  41.0   \n",
      "4          Clerical         No   0.0        0-1 Miles         Europe  36.0   \n",
      "..              ...        ...   ...              ...            ...   ...   \n",
      "995    Professional        Yes   2.0        2-5 Miles  North America  54.0   \n",
      "996    Professional        Yes   0.0        2-5 Miles  North America  35.0   \n",
      "997  Skilled Manual        Yes   0.0        0-1 Miles  North America  38.0   \n",
      "998      Management         No   3.0        1-2 Miles  North America  38.0   \n",
      "999    Professional        Yes   2.0        10+ Miles  North America  53.0   \n",
      "\n",
      "    Purchased Bike  \n",
      "0               No  \n",
      "1               No  \n",
      "2               No  \n",
      "3              Yes  \n",
      "4              Yes  \n",
      "..             ...  \n",
      "995            Yes  \n",
      "996            Yes  \n",
      "997            Yes  \n",
      "998             No  \n",
      "999            Yes  \n",
      "\n",
      "[1000 rows x 13 columns]\n"
     ]
    }
   ],
   "source": [
    "# text preproprocessing\n",
    "filecsv = 'bike_buyers.csv'\n",
    "teks = pd.read_csv(filecsv, header = 0, delimiter = ',', encoding ='utf-8')\n",
    "df = pd.DataFrame(teks)\n",
    "print(df)"
   ]
  },
  {
   "cell_type": "code",
   "execution_count": 5,
   "metadata": {},
   "outputs": [
    {
     "name": "stdout",
     "output_type": "stream",
     "text": [
      "        ID Marital Status  Gender    Income  Children        Education  \\\n",
      "0    12496        Married  Female   40000.0       1.0        Bachelors   \n",
      "1    24107        Married    Male   30000.0       3.0  Partial College   \n",
      "2    14177        Married    Male   80000.0       5.0  Partial College   \n",
      "3    24381         Single     NaN   70000.0       0.0        Bachelors   \n",
      "4    25597         Single    Male   30000.0       0.0        Bachelors   \n",
      "..     ...            ...     ...       ...       ...              ...   \n",
      "995  23731        Married    Male   60000.0       2.0      High School   \n",
      "996  28672         Single    Male   70000.0       4.0  Graduate Degree   \n",
      "997  11809        Married     NaN   60000.0       2.0        Bachelors   \n",
      "998  19664         Single    Male  100000.0       3.0        Bachelors   \n",
      "999  12121         Single    Male   60000.0       3.0      High School   \n",
      "\n",
      "         Occupation Home Owner  Cars Commute Distance         Region   Age  \n",
      "0    Skilled Manual        Yes   0.0        0-1 Miles         Europe  42.0  \n",
      "1          Clerical        Yes   1.0        0-1 Miles         Europe  43.0  \n",
      "2      Professional         No   2.0        2-5 Miles         Europe  60.0  \n",
      "3      Professional        Yes   1.0       5-10 Miles        Pacific  41.0  \n",
      "4          Clerical         No   0.0        0-1 Miles         Europe  36.0  \n",
      "..              ...        ...   ...              ...            ...   ...  \n",
      "995    Professional        Yes   2.0        2-5 Miles  North America  54.0  \n",
      "996    Professional        Yes   0.0        2-5 Miles  North America  35.0  \n",
      "997  Skilled Manual        Yes   0.0        0-1 Miles  North America  38.0  \n",
      "998      Management         No   3.0        1-2 Miles  North America  38.0  \n",
      "999    Professional        Yes   2.0        10+ Miles  North America  53.0  \n",
      "\n",
      "[1000 rows x 12 columns]\n",
      "0       No\n",
      "1       No\n",
      "2       No\n",
      "3      Yes\n",
      "4      Yes\n",
      "      ... \n",
      "995    Yes\n",
      "996    Yes\n",
      "997    Yes\n",
      "998     No\n",
      "999    Yes\n",
      "Name: Purchased Bike, Length: 1000, dtype: object\n"
     ]
    }
   ],
   "source": [
    "xTarget = df.drop(['Purchased Bike'],axis = 1)\n",
    "print(xTarget)\n",
    "\n",
    "yTarget = df['Purchased Bike']\n",
    "print(yTarget)"
   ]
  },
  {
   "cell_type": "code",
   "execution_count": 6,
   "metadata": {},
   "outputs": [
    {
     "name": "stdout",
     "output_type": "stream",
     "text": [
      "(1000, 1)\n",
      "(1000, 12)\n"
     ]
    },
    {
     "data": {
      "text/plain": [
       "array([[ 88.,   0.,   0., ...,   0.,   0.,  17.],\n",
       "       [727.,   0.,   1., ...,   0.,   0.,  18.],\n",
       "       [184.,   0.,   1., ...,   3.,   0.,  35.],\n",
       "       ...,\n",
       "       [ 54.,   0.,  nan, ...,   0.,   1.,  13.],\n",
       "       [496.,   1.,   1., ...,   1.,   1.,  13.],\n",
       "       [ 67.,   1.,   1., ...,   2.,   1.,  28.]])"
      ]
     },
     "execution_count": 6,
     "metadata": {},
     "output_type": "execute_result"
    }
   ],
   "source": [
    "# #merubah yes / no menjadi angka 0 dan 1\n",
    "from sklearn.preprocessing import LabelBinarizer, OrdinalEncoder\n",
    "encoder = LabelBinarizer()\n",
    "Y = encoder.fit_transform(yTarget)\n",
    "print(Y.shape)\n",
    "\n",
    "# #mengkodekan semua value menjadi ordinal\n",
    "tfidf_transformer = OrdinalEncoder()\n",
    "X = tfidf_transformer.fit_transform(xTarget)\n",
    "print(X.shape)\n",
    "\n",
    "X"
   ]
  },
  {
   "cell_type": "code",
   "execution_count": 7,
   "metadata": {},
   "outputs": [],
   "source": [
    "X_train, X_test, y_train, y_test = train_test_split(X, Y, test_size = 0.3, random_state = 1)"
   ]
  },
  {
   "cell_type": "code",
   "execution_count": 10,
   "metadata": {},
   "outputs": [],
   "source": [
    "import pandas as pd\n",
    "from sklearn.preprocessing import LabelEncoder, StandardScaler\n",
    "from sklearn.model_selection import train_test_split\n",
    "from sklearn.neighbors import KNeighborsClassifier\n",
    "from sklearn.metrics import accuracy_score\n",
    "import pickle\n",
    "\n",
    "# Load dataset\n",
    "data = pd.read_csv('bike_buyers.csv')\n",
    "\n",
    "# Drop rows with missing values\n",
    "data = data.dropna()\n",
    "\n",
    "# Encode categorical columns\n",
    "label_encoder = LabelEncoder()\n",
    "categorical_cols = ['Marital Status', 'Gender', 'Education', 'Occupation', 'Home Owner', 'Commute Distance', 'Region', 'Purchased Bike']\n",
    "for col in categorical_cols:\n",
    "    data[col] = label_encoder.fit_transform(data[col])\n",
    "\n",
    "# Normalize the data\n",
    "scaler = StandardScaler()\n",
    "numeric_cols = ['Income', 'Children', 'Cars', 'Age']\n",
    "data[numeric_cols] = scaler.fit_transform(data[numeric_cols])\n",
    "\n",
    "# Separate features and target\n",
    "X = data.drop(['ID', 'Purchased Bike'], axis=1)\n",
    "y = data['Purchased Bike']\n",
    "\n",
    "# Split the data into training and testing sets\n",
    "X_train, X_test, y_train, y_test = train_test_split(X, y, test_size=0.2, random_state=42)"
   ]
  },
  {
   "cell_type": "code",
   "execution_count": 11,
   "metadata": {},
   "outputs": [
    {
     "name": "stdout",
     "output_type": "stream",
     "text": [
      "Accuracy: 0.6492146596858639\n"
     ]
    }
   ],
   "source": [
    "# Train the KNeighborsClassifier\n",
    "model = KNeighborsClassifier().fit(X_train, y_train)\n",
    "\n",
    "# Make predictions\n",
    "prediction = model.predict(X_test)\n",
    "\n",
    "# Calculate accuracy\n",
    "accuracies = accuracy_score(y_test, prediction)\n",
    "print(f'Accuracy: {accuracies}')\n",
    "\n",
    "# Save the model\n",
    "filename = './bike_purchase_model.pkl'\n",
    "pickle.dump(model, open(filename, 'wb'))"
   ]
  },
  {
   "cell_type": "code",
   "execution_count": 12,
   "metadata": {},
   "outputs": [
    {
     "name": "stdout",
     "output_type": "stream",
     "text": [
      "Accuracy: 0.6492146596858639\n"
     ]
    }
   ],
   "source": [
    "import pandas as pd\n",
    "from sklearn.preprocessing import LabelEncoder, StandardScaler\n",
    "from sklearn.model_selection import train_test_split\n",
    "from sklearn.neighbors import KNeighborsClassifier\n",
    "from sklearn.metrics import accuracy_score\n",
    "import pickle\n",
    "\n",
    "# Load dataset\n",
    "data = pd.read_csv('bike_buyers.csv')\n",
    "\n",
    "# Drop rows with missing values\n",
    "data = data.dropna()\n",
    "\n",
    "# Encode categorical columns\n",
    "label_encoders = {}\n",
    "categorical_cols = ['Marital Status', 'Gender', 'Education', 'Occupation', 'Home Owner', 'Commute Distance', 'Region', 'Purchased Bike']\n",
    "for col in categorical_cols:\n",
    "    label_encoders[col] = LabelEncoder()\n",
    "    data[col] = label_encoders[col].fit_transform(data[col])\n",
    "\n",
    "# Normalize the data\n",
    "scaler = StandardScaler()\n",
    "numeric_cols = ['Income', 'Children', 'Cars', 'Age']\n",
    "data[numeric_cols] = scaler.fit_transform(data[numeric_cols])\n",
    "\n",
    "# Separate features and target\n",
    "X = data.drop(['ID', 'Purchased Bike'], axis=1)\n",
    "y = data['Purchased Bike']\n",
    "\n",
    "# Split the data into training and testing sets\n",
    "X_train, X_test, y_train, y_test = train_test_split(X, y, test_size=0.2, random_state=42)\n",
    "\n",
    "# Train the KNeighborsClassifier\n",
    "model = KNeighborsClassifier().fit(X_train, y_train)\n",
    "\n",
    "# Make predictions\n",
    "prediction = model.predict(X_test)\n",
    "\n",
    "# Calculate accuracy\n",
    "accuracy = accuracy_score(y_test, prediction)\n",
    "print(f'Accuracy: {accuracy}')\n",
    "\n",
    "# Save the model\n",
    "filename = './bike_purchase_model.pkl'\n",
    "pickle.dump(model, open(filename, 'wb'))\n",
    "\n",
    "# Save the scaler and label encoders\n",
    "with open('scaler.pkl', 'wb') as f:\n",
    "    pickle.dump(scaler, f)\n",
    "\n",
    "with open('encoders.pkl', 'wb') as f:\n",
    "    pickle.dump(label_encoders, f)"
   ]
  },
  {
   "cell_type": "code",
   "execution_count": 14,
   "metadata": {},
   "outputs": [
    {
     "name": "stdout",
     "output_type": "stream",
     "text": [
      " * Serving Flask app '__main__'\n",
      " * Debug mode: on\n"
     ]
    },
    {
     "name": "stderr",
     "output_type": "stream",
     "text": [
      "WARNING: This is a development server. Do not use it in a production deployment. Use a production WSGI server instead.\n",
      " * Running on http://127.0.0.1:5000\n",
      "Press CTRL+C to quit\n",
      " * Restarting with stat\n"
     ]
    },
    {
     "ename": "SystemExit",
     "evalue": "1",
     "output_type": "error",
     "traceback": [
      "An exception has occurred, use %tb to see the full traceback.\n",
      "\u001b[1;31mSystemExit\u001b[0m\u001b[1;31m:\u001b[0m 1\n"
     ]
    },
    {
     "name": "stderr",
     "output_type": "stream",
     "text": [
      "C:\\Users\\gazag\\AppData\\Local\\Packages\\PythonSoftwareFoundation.Python.3.11_qbz5n2kfra8p0\\LocalCache\\local-packages\\Python311\\site-packages\\IPython\\core\\interactiveshell.py:3585: UserWarning: To exit: use 'exit', 'quit', or Ctrl-D.\n",
      "  warn(\"To exit: use 'exit', 'quit', or Ctrl-D.\", stacklevel=1)\n"
     ]
    }
   ],
   "source": [
    "from flask import Flask, request, render_template\n",
    "import pickle\n",
    "import pandas as pd\n",
    "from sklearn.preprocessing import StandardScaler, LabelEncoder\n",
    "\n",
    "app = Flask(__name__)\n",
    "\n",
    "# Load the trained model\n",
    "model_file = open('bike_purchase_model.pkl', 'rb')\n",
    "model = pickle.load(model_file, encoding='bytes')\n",
    "\n",
    "# Load label encoders and scaler\n",
    "with open('encoders.pkl', 'rb') as f:\n",
    "    encoders = pickle.load(f)\n",
    "\n",
    "with open('scaler.pkl', 'rb') as f:\n",
    "    scaler = pickle.load(f)\n",
    "\n",
    "@app.route('/')\n",
    "def index():\n",
    "    return render_template('index.html', purchase_decision='')\n",
    "\n",
    "@app.route('/predict', methods=['POST'])\n",
    "def predict():\n",
    "    # Get the form data\n",
    "    age, marital_status, gender, income, children, education, occupation, home_owner, cars, commute_distance, region = [x for x in request.form.values()]\n",
    "\n",
    "    # Prepare the data for prediction\n",
    "    data = pd.DataFrame({\n",
    "        'Age': [int(age)],\n",
    "        'Marital Status': [marital_status],\n",
    "        'Gender': [gender],\n",
    "        'Income': [float(income)],\n",
    "        'Children': [int(children)],\n",
    "        'Education': [education],\n",
    "        'Occupation': [occupation],\n",
    "        'Home Owner': [home_owner],\n",
    "        'Cars': [int(cars)],\n",
    "        'Commute Distance': [commute_distance],\n",
    "        'Region': [region]\n",
    "    })\n",
    "\n",
    "    # Encode categorical columns\n",
    "    categorical_cols = ['Marital Status', 'Gender', 'Education', 'Occupation', 'Home Owner', 'Commute Distance', 'Region']\n",
    "    for col in categorical_cols:\n",
    "        encoder = encoders[col]\n",
    "        data[col] = encoder.transform(data[col])\n",
    "\n",
    "    # Normalize numeric columns\n",
    "    numeric_cols = ['Income', 'Children', 'Cars', 'Age']\n",
    "    data[numeric_cols] = scaler.transform(data[numeric_cols])\n",
    "\n",
    "    # Predict\n",
    "    prediction = model.predict(data)\n",
    "    output = 'Yes' if prediction[0] == 1 else 'No'\n",
    "\n",
    "    return render_template('index.html', purchase_decision=output, \n",
    "                           age=age, marital_status=marital_status, gender=gender, \n",
    "                           income=income, children=children, education=education,\n",
    "                           occupation=occupation, home_owner=home_owner, cars=cars,\n",
    "                           commute_distance=commute_distance, region=region)\n",
    "\n",
    "if __name__ == '__main__':\n",
    "    app.run(debug=True)"
   ]
  }
 ],
 "metadata": {
  "kernelspec": {
   "display_name": "Python 3",
   "language": "python",
   "name": "python3"
  },
  "language_info": {
   "codemirror_mode": {
    "name": "ipython",
    "version": 3
   },
   "file_extension": ".py",
   "mimetype": "text/x-python",
   "name": "python",
   "nbconvert_exporter": "python",
   "pygments_lexer": "ipython3",
   "version": "3.10.11"
  }
 },
 "nbformat": 4,
 "nbformat_minor": 2
}
